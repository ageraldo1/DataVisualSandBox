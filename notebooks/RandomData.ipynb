{
 "cells": [
  {
   "cell_type": "code",
   "execution_count": 1,
   "metadata": {},
   "outputs": [],
   "source": [
    "from random_word import RandomWords"
   ]
  },
  {
   "cell_type": "code",
   "execution_count": 2,
   "metadata": {},
   "outputs": [],
   "source": [
    "r = RandomWords()\n"
   ]
  },
  {
   "cell_type": "code",
   "execution_count": 5,
   "metadata": {},
   "outputs": [
    {
     "data": {
      "text/plain": [
       "'footless'"
      ]
     },
     "execution_count": 5,
     "metadata": {},
     "output_type": "execute_result"
    }
   ],
   "source": [
    "r.get_random_word()\n"
   ]
  },
  {
   "cell_type": "code",
   "execution_count": 15,
   "metadata": {},
   "outputs": [
    {
     "data": {
      "text/plain": [
       "['retrograde',\n",
       " 'vanish',\n",
       " 'indite',\n",
       " 'waken',\n",
       " 'crest',\n",
       " 'flabbergast',\n",
       " 'unspike',\n",
       " 'advantage',\n",
       " 'uncentury',\n",
       " 'voucher']"
      ]
     },
     "execution_count": 15,
     "metadata": {},
     "output_type": "execute_result"
    }
   ],
   "source": [
    "r.get_random_words(limit=10,hasDictionaryDef=True, includePartOfSpeech=\"verb\")\n"
   ]
  },
  {
   "cell_type": "code",
   "execution_count": 12,
   "metadata": {},
   "outputs": [
    {
     "data": {
      "text/plain": [
       "'{\"word\": \"prepense\", \"definations\": [{\"source\": \"century\", \"text\": \"Considered and planned beforehand; premeditated; purposed; intentional: generally in the phrase malice prepense (formerly also prepensed malice).\", \"note\": null, \"partOfSpeech\": \"adjective\"}, {\"source\": \"century\", \"text\": \"To consider beforehand; think upon in advance.\", \"note\": null, \"partOfSpeech\": \"verb\"}, {\"source\": \"century\", \"text\": \"To plan or devise beforehand; contrive previously.\", \"note\": null, \"partOfSpeech\": \"verb\"}, {\"source\": \"century\", \"text\": \"To reflect or meditate beforehand.\", \"note\": null, \"partOfSpeech\": \"verb\"}]}'"
      ]
     },
     "execution_count": 12,
     "metadata": {},
     "output_type": "execute_result"
    }
   ],
   "source": [
    "r.word_of_the_day()\n"
   ]
  },
  {
   "cell_type": "code",
   "execution_count": 16,
   "metadata": {},
   "outputs": [],
   "source": [
    "from random import randint\n"
   ]
  },
  {
   "cell_type": "code",
   "execution_count": 18,
   "metadata": {},
   "outputs": [
    {
     "name": "stdout",
     "output_type": "stream",
     "text": [
      "32\n",
      "54\n",
      "94\n",
      "100\n",
      "65\n",
      "70\n",
      "98\n",
      "22\n",
      "92\n",
      "96\n"
     ]
    }
   ],
   "source": [
    "for _ in range(10):\n",
    "\tvalue = randint(0, 100)\n",
    "\tprint(value)"
   ]
  },
  {
   "cell_type": "code",
   "execution_count": 19,
   "metadata": {},
   "outputs": [
    {
     "data": {
      "text/plain": [
       "80"
      ]
     },
     "execution_count": 19,
     "metadata": {},
     "output_type": "execute_result"
    }
   ],
   "source": [
    "randint(0, 100)"
   ]
  },
  {
   "cell_type": "code",
   "execution_count": 20,
   "metadata": {},
   "outputs": [],
   "source": [
    "from numpy.random import randint\n"
   ]
  },
  {
   "cell_type": "code",
   "execution_count": 24,
   "metadata": {},
   "outputs": [
    {
     "data": {
      "text/plain": [
       "[5, 0, 6, 4, 3, 8, 9, 1, 6, 3]"
      ]
     },
     "execution_count": 24,
     "metadata": {},
     "output_type": "execute_result"
    }
   ],
   "source": [
    " list(randint(0, 10, 10))"
   ]
  },
  {
   "cell_type": "code",
   "execution_count": 26,
   "metadata": {},
   "outputs": [
    {
     "data": {
      "text/plain": [
       "numpy.int32"
      ]
     },
     "execution_count": 26,
     "metadata": {},
     "output_type": "execute_result"
    }
   ],
   "source": [
    "type(list(randint(0, 10, 10))[0])"
   ]
  },
  {
   "cell_type": "code",
   "execution_count": 29,
   "metadata": {},
   "outputs": [
    {
     "data": {
      "text/plain": [
       "23"
      ]
     },
     "execution_count": 29,
     "metadata": {},
     "output_type": "execute_result"
    }
   ],
   "source": [
    "import random \n",
    "random.randrange(20, 50, 3)"
   ]
  },
  {
   "cell_type": "code",
   "execution_count": 31,
   "metadata": {},
   "outputs": [
    {
     "name": "stdout",
     "output_type": "stream",
     "text": [
      "[8, 5, 21, 11, 16]\n"
     ]
    }
   ],
   "source": [
    "import random\n",
    "randomlist = []\n",
    "for i in range(0,5):\n",
    "    n = random.randint(1,30)\n",
    "    randomlist.append(n)\n",
    "    \n",
    "print(randomlist)"
   ]
  },
  {
   "cell_type": "code",
   "execution_count": 38,
   "metadata": {},
   "outputs": [
    {
     "name": "stdout",
     "output_type": "stream",
     "text": [
      "[38, 74, 68, 6, 36, 9]\n"
     ]
    }
   ],
   "source": [
    "lst = [random.randint(1,100) for i in range(6)]\n",
    "print(lst)"
   ]
  },
  {
   "cell_type": "code",
   "execution_count": 50,
   "metadata": {},
   "outputs": [
    {
     "name": "stdout",
     "output_type": "stream",
     "text": [
      "{'label': (['flesh', 'disauthorize', 'typewrite', 'retrograde', 'snick', 'stranger'],), 'data': [39, 38, 67, 50, 95, 44]}\n"
     ]
    }
   ],
   "source": [
    "result = {}\n",
    "\n",
    "words = r.get_random_words(limit=6,hasDictionaryDef=True, includePartOfSpeech=\"verb\")\n",
    "\n",
    "result['label'] = words,\n",
    "\n",
    "result['data']  = [random.randint(0, 100) for i in range(6)]\n",
    "print(result)"
   ]
  },
  {
   "cell_type": "code",
   "execution_count": 45,
   "metadata": {},
   "outputs": [
    {
     "name": "stdout",
     "output_type": "stream",
     "text": [
      "['patrocinate', 'buffle', 'concenter', 'tottle', 'mimeo', 'vacation']\n"
     ]
    }
   ],
   "source": [
    "print(r.get_random_words(limit=6,hasDictionaryDef=True, includePartOfSpeech=\"verb\"))"
   ]
  },
  {
   "cell_type": "code",
   "execution_count": 49,
   "metadata": {},
   "outputs": [
    {
     "name": "stdout",
     "output_type": "stream",
     "text": [
      "<class 'list'>\n"
     ]
    }
   ],
   "source": [
    "print(type(words))"
   ]
  },
  {
   "cell_type": "code",
   "execution_count": 52,
   "metadata": {},
   "outputs": [
    {
     "name": "stdout",
     "output_type": "stream",
     "text": [
      "{'list': ['flesh', 'disauthorize', 'typewrite', 'retrograde', 'snick', 'stranger']}\n"
     ]
    }
   ],
   "source": [
    "my_random = {\n",
    "    'list' : words\n",
    "}\n",
    "\n",
    "print(my_random)"
   ]
  },
  {
   "cell_type": "code",
   "execution_count": 55,
   "metadata": {},
   "outputs": [
    {
     "name": "stdout",
     "output_type": "stream",
     "text": [
      "[14, 19, 35, 55, 42, 39]\n"
     ]
    }
   ],
   "source": [
    "data = [random.randint(0, 100) for i in range(6)]\n",
    "print (data)"
   ]
  },
  {
   "cell_type": "code",
   "execution_count": null,
   "metadata": {},
   "outputs": [],
   "source": []
  }
 ],
 "metadata": {
  "kernelspec": {
   "display_name": "Python 3",
   "language": "python",
   "name": "python3"
  },
  "language_info": {
   "codemirror_mode": {
    "name": "ipython",
    "version": 3
   },
   "file_extension": ".py",
   "mimetype": "text/x-python",
   "name": "python",
   "nbconvert_exporter": "python",
   "pygments_lexer": "ipython3",
   "version": "3.7.0"
  }
 },
 "nbformat": 4,
 "nbformat_minor": 2
}
